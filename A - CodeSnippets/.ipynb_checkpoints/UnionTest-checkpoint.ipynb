{
 "cells": [
  {
   "cell_type": "code",
   "execution_count": 7,
   "id": "d1bc2605-4486-4d1b-aa22-4705707ccc25",
   "metadata": {},
   "outputs": [
    {
     "name": "stdout",
     "output_type": "stream",
     "text": [
      " ~%A    10.343292"
     ]
    }
   ],
   "source": [
    "#include <stdio.h>\n",
    "\n",
    "union FData{\n",
    "    float Number;\n",
    "    char Buf[4];\n",
    "};\n",
    "\n",
    "int main()\n",
    "{\n",
    "    \n",
    "    union FData Data;\n",
    "    \n",
    "    // Data.Number = 10.343268;\n",
    "    \n",
    "    Data.Buf[0] = ' ';\n",
    "    Data.Buf[1] = '~';\n",
    "    Data.Buf[2] = '%';\n",
    "    Data.Buf[3] = 'A';\n",
    "    \n",
    "    printf(\"%s    %f\",Data.Buf,Data.Number);\n",
    "    return 0;\n",
    "}"
   ]
  },
  {
   "cell_type": "code",
   "execution_count": null,
   "id": "d5e94d49-00f1-42d1-8407-76ae1ac06ed7",
   "metadata": {},
   "outputs": [],
   "source": []
  }
 ],
 "metadata": {
  "kernelspec": {
   "display_name": "C",
   "language": "c",
   "name": "c"
  },
  "language_info": {
   "file_extension": ".c",
   "mimetype": "text/plain",
   "name": "c"
  }
 },
 "nbformat": 4,
 "nbformat_minor": 5
}
