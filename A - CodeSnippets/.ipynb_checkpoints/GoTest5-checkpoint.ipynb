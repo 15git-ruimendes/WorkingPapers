{
 "cells": [
  {
   "cell_type": "code",
   "execution_count": 2,
   "id": "ffb4bb58-9ff5-4fe0-9fe7-b0ef4a47c466",
   "metadata": {},
   "outputs": [],
   "source": [
    "package main\n",
    "import \"fmt\""
   ]
  },
  {
   "cell_type": "code",
   "execution_count": 4,
   "id": "44f73033-5c3f-44cf-bd52-6782f078221f",
   "metadata": {},
   "outputs": [
    {
     "name": "stdout",
     "output_type": "stream",
     "text": [
      "Hello World\n"
     ]
    }
   ],
   "source": [
    "func main()\n",
    "{\n",
    "    var Hi = \"Hello World!!!\"\n",
    "    \n",
    "    fmt.Println(Hi)\n",
    "}"
   ]
  },
  {
   "cell_type": "code",
   "execution_count": null,
   "id": "f2448e30-8a84-41a2-97e3-15f600a20114",
   "metadata": {},
   "outputs": [],
   "source": []
  }
 ],
 "metadata": {
  "kernelspec": {
   "display_name": "Go",
   "language": "go",
   "name": "gophernotes"
  },
  "language_info": {
   "codemirror_mode": "",
   "file_extension": ".go",
   "mimetype": "",
   "name": "go",
   "nbconvert_exporter": "",
   "pygments_lexer": "",
   "version": "go1.19.4"
  }
 },
 "nbformat": 4,
 "nbformat_minor": 5
}
